{
 "cells": [
  {
   "cell_type": "code",
   "execution_count": 1,
   "metadata": {
    "collapsed": false,
    "deletable": true,
    "editable": true
   },
   "outputs": [
    {
     "ename": "ImportError",
     "evalue": "No module named 'pyvis'",
     "output_type": "error",
     "traceback": [
      "\u001b[0;31m---------------------------------------------------------------------------\u001b[0m",
      "\u001b[0;31mImportError\u001b[0m                               Traceback (most recent call last)",
      "\u001b[0;32m<ipython-input-1-2590eb88fa44>\u001b[0m in \u001b[0;36m<module>\u001b[0;34m()\u001b[0m\n\u001b[1;32m      9\u001b[0m \u001b[0;32mimport\u001b[0m \u001b[0mpickle\u001b[0m\u001b[0;34m\u001b[0m\u001b[0m\n\u001b[1;32m     10\u001b[0m \u001b[0;34m\u001b[0m\u001b[0m\n\u001b[0;32m---> 11\u001b[0;31m \u001b[0;32mfrom\u001b[0m \u001b[0mpyvis\u001b[0m\u001b[0;34m.\u001b[0m\u001b[0mnetwork\u001b[0m \u001b[0;32mimport\u001b[0m \u001b[0mNetwork\u001b[0m\u001b[0;34m\u001b[0m\u001b[0m\n\u001b[0m\u001b[1;32m     12\u001b[0m \u001b[0;32mfrom\u001b[0m \u001b[0mPyQt5\u001b[0m\u001b[0;34m.\u001b[0m\u001b[0mQtCore\u001b[0m \u001b[0;32mimport\u001b[0m \u001b[0mQDateTime\u001b[0m\u001b[0;34m,\u001b[0m \u001b[0mQt\u001b[0m\u001b[0;34m,\u001b[0m \u001b[0mQTimer\u001b[0m\u001b[0;34m\u001b[0m\u001b[0m\n\u001b[1;32m     13\u001b[0m from PyQt5.QtWidgets import (QApplication, QCheckBox, QComboBox, QDateTimeEdit,\n",
      "\u001b[0;31mImportError\u001b[0m: No module named 'pyvis'"
     ]
    }
   ],
   "source": [
    "# part 1 \n",
    "# basic definition \n",
    "\n",
    "import networkx as nx \n",
    "import matplotlib.pyplot as plt\n",
    "import pandas as pd\n",
    "import numpy as np\n",
    "import json \n",
    "import pickle\n",
    "\n",
    "\"\"\"from pyvis.network import Network\n",
    "from PyQt5.QtCore import QDateTime, Qt, QTimer\n",
    "from PyQt5.QtWidgets import (QApplication, QCheckBox, QComboBox, QDateTimeEdit,\n",
    "        QDial, QDialog, QGridLayout, QGroupBox, QHBoxLayout, QLabel, QLineEdit,\n",
    "        QProgressBar, QPushButton, QRadioButton, QScrollBar, QSizePolicy,\n",
    "        QSlider, QSpinBox, QStyleFactory, QTableWidget, QTabWidget, QTextEdit,\n",
    "        QVBoxLayout, QWidget, QToolTip, QTableWidget, QTableWidgetItem)\n",
    "from PyQt5.QtGui import QIcon, QPixmap\n",
    "from PyQt5.QtGui import QFont\"\"\""
   ]
  },
  {
   "cell_type": "code",
   "execution_count": 55,
   "metadata": {
    "collapsed": false,
    "deletable": true,
    "editable": true
   },
   "outputs": [
    {
     "ename": "TypeError",
     "evalue": "unhashable type: 'list'",
     "output_type": "error",
     "traceback": [
      "\u001b[0;31m---------------------------------------------------------------------------\u001b[0m",
      "\u001b[0;31mTypeError\u001b[0m                                 Traceback (most recent call last)",
      "\u001b[0;32m<ipython-input-55-376e84c8002a>\u001b[0m in \u001b[0;36m<module>\u001b[0;34m()\u001b[0m\n\u001b[1;32m     50\u001b[0m     \u001b[0mlk_to\u001b[0m \u001b[0;34m=\u001b[0m \u001b[0mdic_link\u001b[0m\u001b[0;34m.\u001b[0m\u001b[0miloc\u001b[0m\u001b[0;34m[\u001b[0m\u001b[0mindex\u001b[0m\u001b[0;34m]\u001b[0m\u001b[0;34m[\u001b[0m\u001b[0;34m'end'\u001b[0m\u001b[0;34m]\u001b[0m\u001b[0;34m\u001b[0m\u001b[0m\n\u001b[1;32m     51\u001b[0m     \u001b[0mlk_label\u001b[0m \u001b[0;34m=\u001b[0m \u001b[0mdic_link\u001b[0m\u001b[0;34m.\u001b[0m\u001b[0miloc\u001b[0m\u001b[0;34m[\u001b[0m\u001b[0mindex\u001b[0m\u001b[0;34m]\u001b[0m\u001b[0;34m[\u001b[0m\u001b[0;34m'label'\u001b[0m\u001b[0;34m]\u001b[0m\u001b[0;34m\u001b[0m\u001b[0m\n\u001b[0;32m---> 52\u001b[0;31m     \u001b[0mQ\u001b[0m\u001b[0;34m.\u001b[0m\u001b[0madd_edge\u001b[0m\u001b[0;34m(\u001b[0m\u001b[0mlk_from\u001b[0m\u001b[0;34m,\u001b[0m\u001b[0mlk_to\u001b[0m\u001b[0;34m,\u001b[0m\u001b[0mlabel\u001b[0m\u001b[0;34m=\u001b[0m\u001b[0mlk_label\u001b[0m\u001b[0;34m,\u001b[0m\u001b[0mid_lk\u001b[0m\u001b[0;34m=\u001b[0m\u001b[0mlk_id\u001b[0m\u001b[0;34m)\u001b[0m\u001b[0;34m\u001b[0m\u001b[0m\n\u001b[0m\u001b[1;32m     53\u001b[0m \u001b[0;34m\u001b[0m\u001b[0m\n\u001b[1;32m     54\u001b[0m \u001b[0;31m# #     index_from = dic_node.index[dic_node['id']==lk_from].tolist()\u001b[0m\u001b[0;34m\u001b[0m\u001b[0;34m\u001b[0m\u001b[0m\n",
      "\u001b[0;32m~/anaconda3/lib/python3.5/site-packages/networkx/classes/graph.py\u001b[0m in \u001b[0;36madd_edge\u001b[0;34m(self, u, v, attr_dict, **attr)\u001b[0m\n\u001b[1;32m    789\u001b[0m                     \"The attr_dict argument must be a dictionary.\")\n\u001b[1;32m    790\u001b[0m         \u001b[0;31m# add nodes\u001b[0m\u001b[0;34m\u001b[0m\u001b[0;34m\u001b[0m\u001b[0m\n\u001b[0;32m--> 791\u001b[0;31m         \u001b[0;32mif\u001b[0m \u001b[0mu\u001b[0m \u001b[0;32mnot\u001b[0m \u001b[0;32min\u001b[0m \u001b[0mself\u001b[0m\u001b[0;34m.\u001b[0m\u001b[0mnode\u001b[0m\u001b[0;34m:\u001b[0m\u001b[0;34m\u001b[0m\u001b[0m\n\u001b[0m\u001b[1;32m    792\u001b[0m             \u001b[0mself\u001b[0m\u001b[0;34m.\u001b[0m\u001b[0madj\u001b[0m\u001b[0;34m[\u001b[0m\u001b[0mu\u001b[0m\u001b[0;34m]\u001b[0m \u001b[0;34m=\u001b[0m \u001b[0mself\u001b[0m\u001b[0;34m.\u001b[0m\u001b[0madjlist_dict_factory\u001b[0m\u001b[0;34m(\u001b[0m\u001b[0;34m)\u001b[0m\u001b[0;34m\u001b[0m\u001b[0m\n\u001b[1;32m    793\u001b[0m             \u001b[0mself\u001b[0m\u001b[0;34m.\u001b[0m\u001b[0mnode\u001b[0m\u001b[0;34m[\u001b[0m\u001b[0mu\u001b[0m\u001b[0;34m]\u001b[0m \u001b[0;34m=\u001b[0m \u001b[0;34m{\u001b[0m\u001b[0;34m}\u001b[0m\u001b[0;34m\u001b[0m\u001b[0m\n",
      "\u001b[0;31mTypeError\u001b[0m: unhashable type: 'list'"
     ]
    }
   ],
   "source": [
    "# part 2\n",
    "# import the data pickle version\n",
    "\n",
    "# import from the database\n",
    "pickfile='love_chinese'\n",
    "f = open('database/%s.p'%pickfile,'rb')\n",
    "mydict = pickle.load(f)\n",
    "f.close()\n",
    "\n",
    "# divde the node and link \n",
    "[dic_node, dic_link] = mydict\n",
    "\n",
    "# build the networkx version of the database \n",
    "Q = nx.Graph() # for networkx \n",
    "N = nx.Graph() # for html building by \n",
    "\n",
    "# set the color map \n",
    "color_map = []\n",
    "rgb_map=[]\n",
    "title_name = []\n",
    "\n",
    "# add nodes into the graph\n",
    "(row, col) = dic_node.shape\n",
    "for index in range(row):\n",
    "    nd_id = dic_node.iloc[index]['id']\n",
    "    nd_content = dic_node.iloc[index]['content']\n",
    "    nd_feature = dic_node.iloc[index]['feature']\n",
    "    nd_label = dic_node.iloc[index]['label']\n",
    "    nd_reference = dic_node.iloc[index]['reference']\n",
    "    Q.add_node(nd_id,feature=nd_feature,content=nd_content,label=nd_label,reference=nd_reference)\n",
    "    N.add_node(nd_label,feature=nd_feature,content=nd_content,reference=nd_reference)\n",
    "    \n",
    "    # build the color map \n",
    "    if nd_feature == 'Central question':\n",
    "        rgb_map.append({'r': 205, 'g': 167, 'b': 38, 'a': 0})\n",
    "        color_map.append('orange')\n",
    "        title_name = nd_label\n",
    "    elif nd_feature == 'Question':\n",
    "        rgb_map.append({'r': 199, 'g': 129, 'b': 32, 'a': 0})\n",
    "        color_map.append('green')\n",
    "    else:\n",
    "        rgb_map.append({'r': 144, 'g': 202, 'b': 249, 'a': 0})\n",
    "        color_map.append('blue')\n",
    "    \n",
    "# add links into the graph\n",
    "(row, col) = dic_link.shape\n",
    "for index in range(row):\n",
    "    lk_id = dic_link.iloc[index]['id']\n",
    "    lk_from = dic_link.iloc[index]['start']\n",
    "    lk_to = dic_link.iloc[index]['end']\n",
    "    lk_label = dic_link.iloc[index]['label']\n",
    "    Q.add_edge(lk_from,lk_to,label=lk_label,id_lk=lk_id)\n",
    "    \n",
    "# #     index_from = dic_node.index[dic_node['id']==lk_from].tolist()\n",
    "#     index_from = dic_link[dic_link['id']==lk_from].index.values.astype(int)\n",
    "# #     index_from = int(index_from)\n",
    "#     lk_from_n = dic_node.iloc[index_from]['label']\n",
    "# #     index_to = dic_node.index[dic_node['id']==lk_to].tolist()\n",
    "#     index_to = dic_link[dic_link['id']==lk_to].index.values\n",
    "# #     index_to = int(index_to)\n",
    "#     lk_to_n = dic_node.iloc[index_to]['label']\n",
    "    lk_from_n = dic_node.loc[dic_node['id']==lk_from,'label'].values[0]\n",
    "    lk_to_n = dic_node.loc[dic_node['id']==lk_to,'label'].values[0]\n",
    "    \n",
    "    N.add_edge(lk_from_n,lk_to_n,label=lk_label)"
   ]
  },
  {
   "cell_type": "code",
   "execution_count": null,
   "metadata": {
    "collapsed": false,
    "deletable": true,
    "editable": true
   },
   "outputs": [],
   "source": [
    "# part 3\n",
    "# save the networkx as graph and html \n",
    "\n",
    "fig = plt.figure(frameon=False)\n",
    "fig.set_size_inches(35, 25) \n",
    "ax = fig.add_axes([0, 0, 1, 1])\n",
    "ax.axis('off')\n",
    "\n",
    "#pos = nx.kamada_kawai_layout(Q) # temp: err\n",
    "pos=nx.spring_layout(Q)\n",
    "nx.draw_networkx(Q,node_color=color_map,arrows=True,arrowstyle='->',arrowsize=25,with_labels=False)#pos\n",
    "node_labels = nx.get_node_attributes(Q,'label')\n",
    "# nx.draw_networkx_labels(Q,pos,labels=node_labels,font_size = 24)\n",
    "edge_labels = nx.get_edge_attributes(Q,'label')\n",
    "# nx.draw_networkx_edge_labels(Q, pos, labels = edge_labels,font_size = 12)\n",
    "# nx.draw(Q,with_labels = True,font_weight = 'bold',node_size = 1000,node_color='green',node_shape='h')\n",
    "\n",
    "\n",
    "for kn,n in enumerate(Q.node):\n",
    "    Q.node[n]['viz']={'color':rgb_map[kn]}\n",
    "# save and illustration\n",
    "# fig.savefig('QuestionNet8.png', dpi=100)\n",
    "# plt.show()\n",
    "\n",
    "title_name = title_name.replace('?','')\n",
    "simple = 'QN_simple_' + title_name + '.png'\n",
    "fig.savefig(simple, dpi=100)\n",
    "        \n",
    "# draw the full graph\n",
    "nx.draw_networkx_labels(Q,pos,labels=node_labels,font_size = 12)#pos\n",
    "nx.draw_networkx_edge_labels(Q,pos, labels = edge_labels,font_size = 9)#pos\n",
    "        \n",
    "full = 'QN_full_'+ title_name +'.png'\n",
    "fig.savefig(full, dpi=100)\n",
    "plt.show()\n",
    "\n",
    "# generate the html version of the graph via pyviz\n",
    "\"\"\"g = Network(height=\"100%\", width=\"100%\", bgcolor=\"#222222\", font_color=\"white\")\n",
    "\n",
    "g.from_nx(N)\n",
    "g.toggle_drag_nodes(True)\n",
    "# g.toggle_stabilization(True)\n",
    "g.toggle_hide_edges_on_drag(False)\n",
    "g.toggle_hide_nodes_on_drag(True)\n",
    "g.toggle_physics(True)\n",
    "g.toggle_stabilization(False)\n",
    "# EdgeOptions.toggle_smoothness(smooth_type = 'curvedCCW')\n",
    "g.barnes_hut(gravity=-8000,central_gravity=0.3,spring_length=100,spring_strength=0.001,damping=0.09,overlap=0)\n",
    "# g.force_atlas_2based(gravity=-50,central_gravity=0.01,spring_length=100,spring_strength=0.08,damping=0.4,overlap=0)\n",
    "# g.hrepulsion(node_distance=120,central_gravity=0.0,spring_length=100,spring_strength=0.01,damping=0.09)\n",
    "html = 'QN_html_'+title_name+'.html'\n",
    "g.show(html)\"\"\"\n",
    "\n",
    "# generate gephi compatible gexf version of graph\n",
    "nx.write_gexf(Q,'database/QN_%s.gexf'%title_name)"
   ]
  },
  {
   "cell_type": "code",
   "execution_count": 20,
   "metadata": {
    "collapsed": false
   },
   "outputs": [
    {
     "data": {
      "text/plain": [
       "'爱是什么？'"
      ]
     },
     "execution_count": 20,
     "metadata": {},
     "output_type": "execute_result"
    }
   ],
   "source": [
    "title_name"
   ]
  }
 ],
 "metadata": {
  "anaconda-cloud": {},
  "kernelspec": {
   "display_name": "Python [Root]",
   "language": "python",
   "name": "Python [Root]"
  },
  "language_info": {
   "codemirror_mode": {
    "name": "ipython",
    "version": 3
   },
   "file_extension": ".py",
   "mimetype": "text/x-python",
   "name": "python",
   "nbconvert_exporter": "python",
   "pygments_lexer": "ipython3",
   "version": "3.5.2"
  }
 },
 "nbformat": 4,
 "nbformat_minor": 2
}

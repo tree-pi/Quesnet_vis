{
 "cells": [
  {
   "cell_type": "markdown",
   "metadata": {},
   "source": [
    "Goal is to extract the questions from the paper networks in a same field and show case the strucutre of questions (with their frequency)"
   ]
  },
  {
   "cell_type": "code",
   "execution_count": 1,
   "metadata": {},
   "outputs": [],
   "source": [
    "import networkx as nx \n",
    "import matplotlib.pyplot as plt\n",
    "import pandas as pd\n",
    "import numpy as np\n",
    "import json \n",
    "import pickle\n",
    "import os\n",
    "\n",
    "from IPython.core.debugger import set_trace\n"
   ]
  },
  {
   "cell_type": "code",
   "execution_count": 2,
   "metadata": {},
   "outputs": [],
   "source": [
    "def getQid(qtext,Qdic):\n",
    "    qtext = str(qtext)\n",
    "    if qtext in Qdic['label']:\n",
    "        idx = Qdic['label'].index(qtext)\n",
    "        if paper not in Qdic['paper'][idx]:\n",
    "            Qdic['paper'][idx].append(paper)\n",
    "        return Qdic['id'][idx]\n",
    "    else:\n",
    "        newid = 'Q%d'%np.random.randint(100000)\n",
    "        Qdic['id'].append(newid)\n",
    "        Qdic['label'].append(qtext)\n",
    "        Qdic['paper'].append([paper])\n",
    "        return newid\n",
    "def addedge(qids,etext,Edgedic):\n",
    "    if qids in Edgedic['startNend']:\n",
    "        idx = Edgedic['startNend'].index(qids)\n",
    "        if paper not in Edgedic['paper'][idx]:\n",
    "            Edgedic['paper'][idx].append(paper)\n",
    "        if etext not in Edgedic['label'][idx]:\n",
    "            Edgedic['label'][idx].append(etext)\n",
    "    else:\n",
    "        Edgedic['startNend'].append(qids)\n",
    "        Edgedic['id'].append('E%d'%np.random.randint(100000))\n",
    "        Edgedic['label'].append([etext])\n",
    "        Edgedic['paper'].append([paper])"
   ]
  },
  {
   "cell_type": "code",
   "execution_count": 10,
   "metadata": {},
   "outputs": [],
   "source": [
    "papers = ['Burda2019_Large','Houthooft2016_VIME','Pathak2019_Self-Supervised']\n",
    "fdir = '../database/curiosity/algorithms/'\n",
    "#TODO: load the paper entity list instead of just streams. \"paper\" should all point to there.\n",
    "Qdic = {'id':[],'label':[],'paper':[]}\n",
    "Qedgs = {'startNend':[],'label':[],'id':[],'paper':[]}\n",
    "for paper in papers:\n",
    "    [nodedf,edgedf,allngrps] = pickle.load(open(fdir+paper+'_qnet.p','rb'))\n",
    "    for row in edgedf.itertuples(index=False):\n",
    "        if row.end[0]=='q':\n",
    "            if row.start[0]=='q': # q to q link\n",
    "                oldids = [row.start,row.end]\n",
    "                lbs = [nodedf['label'].loc[nodedf['id']==oldids[0]].values[0],nodedf['label'].loc[nodedf['id']==oldids[1]].values[0]]\n",
    "                Qids = [getQid(lbs[0],Qdic),getQid(lbs[1],Qdic)]\n",
    "            elif (row.end[0]=='q' and row.start[0]=='a'): # a to q\n",
    "                prevqid = edgedf['start'].loc[edgedf['end']==row.start].values[0]\n",
    "                if prevqid[0]!='q':\n",
    "                    print('strange! Answer not following a question!')\n",
    "                    set_trace()\n",
    "                    continue\n",
    "                prevqlb = nodedf['label'].loc[nodedf['id']==prevqid].values[0]\n",
    "                thislb = nodedf['label'].loc[nodedf['id']==row.end].values[0]\n",
    "                Qids = [getQid(prevqlb,Qdic),getQid(thislb,Qdic)]\n",
    "            elb = row.label\n",
    "            addedge(Qids,elb,Qedgs)\n"
   ]
  },
  {
   "cell_type": "code",
   "execution_count": 11,
   "metadata": {},
   "outputs": [
    {
     "ename": "TypeError",
     "evalue": "file must have a 'write' attribute",
     "output_type": "error",
     "traceback": [
      "\u001b[0;31m---------------------------------------------------------------------------\u001b[0m",
      "\u001b[0;31mTypeError\u001b[0m                                 Traceback (most recent call last)",
      "\u001b[0;32m<ipython-input-11-a5614473ec23>\u001b[0m in \u001b[0;36m<module>\u001b[0;34m\u001b[0m\n\u001b[1;32m      1\u001b[0m \u001b[0mQdf\u001b[0m \u001b[0;34m=\u001b[0m \u001b[0mpd\u001b[0m\u001b[0;34m.\u001b[0m\u001b[0mDataFrame\u001b[0m\u001b[0;34m(\u001b[0m\u001b[0mQdic\u001b[0m\u001b[0;34m)\u001b[0m\u001b[0;34m\u001b[0m\u001b[0;34m\u001b[0m\u001b[0m\n\u001b[1;32m      2\u001b[0m \u001b[0mQedgedf\u001b[0m \u001b[0;34m=\u001b[0m \u001b[0mpd\u001b[0m\u001b[0;34m.\u001b[0m\u001b[0mDataFrame\u001b[0m\u001b[0;34m(\u001b[0m\u001b[0mQedgs\u001b[0m\u001b[0;34m)\u001b[0m\u001b[0;34m\u001b[0m\u001b[0;34m\u001b[0m\u001b[0m\n\u001b[0;32m----> 3\u001b[0;31m \u001b[0mpickle\u001b[0m\u001b[0;34m.\u001b[0m\u001b[0mdump\u001b[0m\u001b[0;34m(\u001b[0m\u001b[0mopen\u001b[0m\u001b[0;34m(\u001b[0m\u001b[0mfdir\u001b[0m\u001b[0;34m+\u001b[0m\u001b[0;34m'combQnet.p'\u001b[0m\u001b[0;34m,\u001b[0m\u001b[0;34m'wb'\u001b[0m\u001b[0;34m)\u001b[0m\u001b[0;34m,\u001b[0m\u001b[0;34m[\u001b[0m\u001b[0mQdf\u001b[0m\u001b[0;34m,\u001b[0m\u001b[0mQedgedf\u001b[0m\u001b[0;34m]\u001b[0m\u001b[0;34m)\u001b[0m\u001b[0;34m\u001b[0m\u001b[0;34m\u001b[0m\u001b[0m\n\u001b[0m",
      "\u001b[0;31mTypeError\u001b[0m: file must have a 'write' attribute"
     ]
    }
   ],
   "source": [
    "Qdf = pd.DataFrame(Qdic)\n",
    "Qedgedf = pd.DataFrame(Qedgs)\n",
    "pickle.dump(open(fdir+'combQnet.p','wb'),[Qdf,Qedgedf])"
   ]
  }
 ],
 "metadata": {
  "kernelspec": {
   "display_name": "Python 3",
   "language": "python",
   "name": "python3"
  },
  "language_info": {
   "codemirror_mode": {
    "name": "ipython",
    "version": 3
   },
   "file_extension": ".py",
   "mimetype": "text/x-python",
   "name": "python",
   "nbconvert_exporter": "python",
   "pygments_lexer": "ipython3",
   "version": "3.7.1"
  },
  "toc": {
   "base_numbering": 1,
   "nav_menu": {},
   "number_sections": true,
   "sideBar": true,
   "skip_h1_title": false,
   "title_cell": "Table of Contents",
   "title_sidebar": "Contents",
   "toc_cell": false,
   "toc_position": {},
   "toc_section_display": true,
   "toc_window_display": false
  }
 },
 "nbformat": 4,
 "nbformat_minor": 2
}

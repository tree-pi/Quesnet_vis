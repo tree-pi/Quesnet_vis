{
 "cells": [
  {
   "cell_type": "markdown",
   "metadata": {},
   "source": [
    "Goal is to extract the questions from the paper networks in a same field and show case the strucutre of questions (with their frequency)"
   ]
  },
  {
   "cell_type": "code",
   "execution_count": 9,
   "metadata": {},
   "outputs": [],
   "source": [
    "import networkx as nx \n",
    "import matplotlib.pyplot as plt\n",
    "import pandas as pd\n",
    "import numpy as np\n",
    "import json \n",
    "import pickle\n",
    "import os\n",
    "\n",
    "from IPython.core.debugger import set_trace\n"
   ]
  },
  {
   "cell_type": "code",
   "execution_count": 10,
   "metadata": {},
   "outputs": [],
   "source": [
    "def getQid(qtext,Qdic):\n",
    "    qtext = str(qtext)\n",
    "    if qtext in Qdic['label']:\n",
    "        idx = Qdic['label'].index(qtext)\n",
    "        if paper not in Qdic['paper'][idx]:\n",
    "            Qdic['paper'][idx].append(paper)\n",
    "        return Qdic['id'][idx]\n",
    "    else:\n",
    "        newid = 'Q%d'%np.random.randint(100000)\n",
    "        Qdic['id'].append(newid)\n",
    "        Qdic['label'].append(qtext)\n",
    "        Qdic['paper'].append([paper])\n",
    "        return newid\n",
    "def addedge(qids,etext,Edgedic):\n",
    "    if qids in Edgedic['startNend']:\n",
    "        idx = Edgedic['startNend'].index(qids)\n",
    "        if paper not in Edgedic['paper'][idx]:\n",
    "            Edgedic['paper'][idx].append(paper)\n",
    "        if etext not in Edgedic['label'][idx]:\n",
    "            Edgedic['label'][idx].append(etext)\n",
    "    else:\n",
    "        Edgedic['startNend'].append(qids)\n",
    "        Edgedic['id'].append('E%d'%np.random.randint(100000))\n",
    "        Edgedic['label'].append([etext])\n",
    "        Edgedic['paper'].append([paper])"
   ]
  },
  {
   "cell_type": "markdown",
   "metadata": {},
   "source": [
    "# alternatively, generate pure Q network"
   ]
  },
  {
   "cell_type": "code",
   "execution_count": 14,
   "metadata": {},
   "outputs": [],
   "source": [
    "papers = ['Stahl2015_observing']#['Burda2019_Large','Houthooft2016_VIME','Pathak2019_Self-Supervised']\n",
    "fdir = '../database/curiosity/devpsych/'\n",
    "#TODO: load the paper entity list instead of just streams. \"paper\" should all point to there.\n",
    "Qedgs =[]\n",
    "for paper in papers:\n",
    "    [nodedf,edgedf,allngrps] = pickle.load(open(fdir+paper+'_qnet.p','rb'))\n",
    "    for row in edgedf.itertuples(index=False):\n",
    "        if row.end[0]=='q':\n",
    "            thisid = row.end\n",
    "            if (row.end[0]=='q' and row.start[0]=='a'): # a to q\n",
    "                prevqid = edgedf['start'].loc[edgedf['end']==row.start].values[0]\n",
    "                eid = 'l%d'%np.random.randint(100000)\n",
    "                if prevqid[0]!='q':\n",
    "                    print('strange! Answer not following a question!')\n",
    "                    set_trace()\n",
    "                    continue\n",
    "            else:\n",
    "                prevqid = row.start\n",
    "                eid = row.id\n",
    "            elb = row.label\n",
    "            \n",
    "            edgedict = {'start':prevqid,'end':thisid,'label':elb,'id':eid}\n",
    "            Qedgs.append(edgedict)\n",
    "Qnodes = []\n",
    "for node in nodedf.itertuples(index=False):\n",
    "    if node.id[0]=='q':\n",
    "        Qnodes.append(node)\n",
    "Qndf = pd.DataFrame(Qnodes)\n",
    "Qedf = pd.DataFrame(Qedgs)"
   ]
  },
  {
   "cell_type": "code",
   "execution_count": 15,
   "metadata": {},
   "outputs": [],
   "source": [
    "pickle.dump([Qndf,Qedf],open(fdir+papers[0]+'_Qonly.p','wb'))"
   ]
  }
 ],
 "metadata": {
  "kernelspec": {
   "display_name": "Python 3",
   "language": "python",
   "name": "python3"
  },
  "language_info": {
   "codemirror_mode": {
    "name": "ipython",
    "version": 3
   },
   "file_extension": ".py",
   "mimetype": "text/x-python",
   "name": "python",
   "nbconvert_exporter": "python",
   "pygments_lexer": "ipython3",
   "version": "3.5.2"
  },
  "toc": {
   "base_numbering": 1,
   "nav_menu": {},
   "number_sections": true,
   "sideBar": true,
   "skip_h1_title": false,
   "title_cell": "Table of Contents",
   "title_sidebar": "Contents",
   "toc_cell": false,
   "toc_position": {},
   "toc_section_display": true,
   "toc_window_display": false
  }
 },
 "nbformat": 4,
 "nbformat_minor": 2
}

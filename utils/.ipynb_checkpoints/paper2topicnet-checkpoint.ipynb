{
 "cells": [
  {
   "cell_type": "markdown",
   "metadata": {},
   "source": [
    "combine papers in the same topic to a topic network"
   ]
  },
  {
   "cell_type": "code",
   "execution_count": 1,
   "metadata": {},
   "outputs": [],
   "source": [
    "import numpy as np\n",
    "import pandas as pd\n",
    "import re\n",
    "import pickle\n",
    "import os\n",
    "from IPython.core.debugger import set_trace\n"
   ]
  },
  {
   "cell_type": "code",
   "execution_count": null,
   "metadata": {},
   "outputs": [],
   "source": [
    "pnames = ['Bonawitz2011-the','Stahl2015_observing']\n",
    "topicQ = {'nodes':[],'edges':[]}\n",
    "for pname in pnames:\n",
    "    [Qndf,Qedf] = pickle.load(open(outdir+pname+'_Qonly.p','rb'))\n",
    "    # add new Q nodes into topicQ pool\n",
    "    # 1-check repetition: Question similarity decision! \n",
    "    # 2-only add the non-repeated ones\n",
    "    \n",
    "    # add edges\n",
    "    # 1-check repetition, only add the non-repeated ones\n",
    "    \n",
    "    \n",
    "    # add answers, as a feature of each question node. mark where the answer comes from\n",
    "    [nodedf,edgedf,allngrps] = pickle.load(open(outdir+pname+'_qnet.p','rb'))\n"
   ]
  }
 ],
 "metadata": {
  "kernelspec": {
   "display_name": "Python 3",
   "language": "python",
   "name": "python3"
  },
  "language_info": {
   "codemirror_mode": {
    "name": "ipython",
    "version": 3
   },
   "file_extension": ".py",
   "mimetype": "text/x-python",
   "name": "python",
   "nbconvert_exporter": "python",
   "pygments_lexer": "ipython3",
   "version": "3.7.1"
  },
  "toc": {
   "base_numbering": 1,
   "nav_menu": {},
   "number_sections": true,
   "sideBar": true,
   "skip_h1_title": false,
   "title_cell": "Table of Contents",
   "title_sidebar": "Contents",
   "toc_cell": false,
   "toc_position": {},
   "toc_section_display": true,
   "toc_window_display": false
  }
 },
 "nbformat": 4,
 "nbformat_minor": 2
}

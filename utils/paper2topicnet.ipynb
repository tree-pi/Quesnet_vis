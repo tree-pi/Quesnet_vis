{
 "cells": [
  {
   "cell_type": "markdown",
   "metadata": {},
   "source": [
    "combine papers in the same topic to a topic network"
   ]
  },
  {
   "cell_type": "code",
   "execution_count": 1,
   "metadata": {},
   "outputs": [],
   "source": [
    "import numpy as np\n",
    "import pandas as pd\n",
    "import re\n",
    "import pickle\n",
    "import os\n",
    "from IPython.core.debugger import set_trace\n"
   ]
  },
  {
   "cell_type": "code",
   "execution_count": 8,
   "metadata": {},
   "outputs": [
    {
     "data": {
      "text/plain": [
       "{'id': 'Ep63386',\n",
       " 'label': 'Stahl2015_observing',\n",
       " 'author': 'Stahl',\n",
       " 'year': '2015',\n",
       " 'title': 'Observing the unexpected enhances infants’ learning and exploration'}"
      ]
     },
     "execution_count": 8,
     "metadata": {},
     "output_type": "execute_result"
    }
   ],
   "source": [
    "thisp"
   ]
  },
  {
   "cell_type": "code",
   "execution_count": 43,
   "metadata": {},
   "outputs": [],
   "source": [
    "def isrep(newstr,oldstr): # to try:different ways\n",
    "    if newstr==oldstr:\n",
    "        return True\n",
    "    else:\n",
    "        return False"
   ]
  },
  {
   "cell_type": "code",
   "execution_count": 12,
   "metadata": {},
   "outputs": [
    {
     "data": {
      "text/plain": [
       "array([], dtype=int64)"
      ]
     },
     "execution_count": 12,
     "metadata": {},
     "output_type": "execute_result"
    }
   ],
   "source": [
    "np.where([False,False])[0]"
   ]
  },
  {
   "cell_type": "code",
   "execution_count": 44,
   "metadata": {},
   "outputs": [],
   "source": [
    "outdir='../database/curiosity/devpsych/'\n",
    "\n",
    "pnames = ['Bonawitz2011-the','Stahl2015_observing']\n",
    "topicQ = {'nodes':{'label':[],'reference':[]},'edges':{'start':[],'end':[]}}\n",
    "for pname in pnames:\n",
    "    # Q only network\n",
    "    [Qndf,Qedf] = pickle.load(open(outdir+pname+'_Qonly.p','rb'))\n",
    "    # full network\n",
    "    [nodedf,edgedf,allngrps,thisp] = pickle.load(open(outdir+pname+'_qnet.p','rb'))\n",
    "\n",
    "    # add new Q nodes into topicQ pool\n",
    "    # 1-check repetition: Question similarity decision! \n",
    "    for kq in range(len(Qndf)):\n",
    "        if Qndf.iloc[kq]['speaker']!=thisp['id']: # only include questions asked from this paper\n",
    "            continue\n",
    "        qidx = np.where(list(map(lambda x: isrep(Qndf['label'].iloc[kq],x),list(topicQ['nodes']['label']))))[0]\n",
    "        if len(qidx)==0: # not found in current topic Q\n",
    "            topicQ['nodes']['label'].append(Qndf['label'].iloc[kq])\n",
    "            topicQ['nodes']['reference'].append({'paper':thisp,'content':Qndf['content'].iloc[kq]})\n",
    "            qidx = len(topicQ['nodes']['label'])-1\n",
    "        else:\n",
    "            qidx = qidx[0]\n",
    "        \n",
    "        # add edges\n",
    "        Eidx = np.where(topicQ['edges']['start']==topicQ['nodes']['label'][qidx])[0]\n",
    "        qid = Qndf.iloc[kq]['id']\n",
    "        outedge = edgedf.loc[edgedf['start']==qid]\n",
    "        outq =[Qndf['label'].iloc[list(Qndf['id']).index(eid)] for eid in outedge['end'] if eid[0]=='q']\n",
    "        if len(outq)>0:\n",
    "            for kout in range(len(outq)):\n",
    "                outlb = outq[kout]\n",
    "                if len(np.where(list(map(lambda x: isrep(outlb,x),topicQ['edges']['end'])))[0])==0: # edge not found\n",
    "                    topicQ['edges']['start'].append(topicQ['nodes']['label'][qidx])\n",
    "                    topicQ['edges']['end'].append(outlb)\n",
    "                    # TODO: add edge label\n",
    "    \n",
    "    \n",
    "    # TODO: add answers, as a feature of each question node. mark where the answer comes from\n",
    "    [nodedf,edgedf,allngrps,thisp] = pickle.load(open(outdir+pname+'_qnet.p','rb'))\n"
   ]
  },
  {
   "cell_type": "code",
   "execution_count": 51,
   "metadata": {},
   "outputs": [],
   "source": [
    "pickle.dump([pd.DataFrame(topicQ['nodes']),pd.DataFrame(topicQ['edges'])],open(outdir+'topicnet.p','wb'))"
   ]
  }
 ],
 "metadata": {
  "kernelspec": {
   "display_name": "Python 3",
   "language": "python",
   "name": "python3"
  },
  "language_info": {
   "codemirror_mode": {
    "name": "ipython",
    "version": 3
   },
   "file_extension": ".py",
   "mimetype": "text/x-python",
   "name": "python",
   "nbconvert_exporter": "python",
   "pygments_lexer": "ipython3",
   "version": "3.7.1"
  },
  "toc": {
   "base_numbering": 1,
   "nav_menu": {},
   "number_sections": true,
   "sideBar": true,
   "skip_h1_title": false,
   "title_cell": "Table of Contents",
   "title_sidebar": "Contents",
   "toc_cell": false,
   "toc_position": {},
   "toc_section_display": true,
   "toc_window_display": false
  }
 },
 "nbformat": 4,
 "nbformat_minor": 2
}

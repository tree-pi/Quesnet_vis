{
 "cells": [
  {
   "cell_type": "code",
   "execution_count": 2,
   "metadata": {},
   "outputs": [],
   "source": [
    "# condense paper html generation \n",
    "\n",
    "# The program aims to generate the html file from the \n",
    "# condensed topic graph\n",
    "\n",
    "import networkx as nx \n",
    "import matplotlib.pyplot as plt\n",
    "import pandas as pd\n",
    "import numpy as np\n",
    "import json \n",
    "import pickle\n",
    "import os\n",
    "\n",
    "from IPython.core.debugger import set_trace"
   ]
  },
  {
   "cell_type": "code",
   "execution_count": 7,
   "metadata": {},
   "outputs": [],
   "source": [
    "# illustrate the topic network \n",
    "\n",
    "# extract from the paper network \n",
    "\n",
    "# pickfile=open(fdir+'%s'%file_list[i],'rb')\n",
    "# fdir = 'database/curiosity/algorithms/'\n",
    "fdir = 'jscode/poster/pickle/' # designed for the poster \n",
    "\n",
    "pickfile=open(fdir+'nodeQs_qnet3.p','rb')\n",
    "mydict = pickle.load(pickfile)\n",
    "pickfile.close()\n",
    "\n",
    "# divde the node and link \n",
    "[dic_node, dic_link, others] = mydict\n",
    "\n",
    "# graph initialization \n",
    "topic_graph = nx.Graph()\n",
    "# html json initialization\n",
    "ht_nodes = []\n",
    "ht_edges = []\n",
    "\n",
    "\n",
    "# add nodes into the graph\n",
    "(row, col) = dic_node.shape\n",
    "\n",
    "def wrap_by_word(s, n):\n",
    "    '''returns a string where \\\\n is inserted between every n words'''\n",
    "    a = s.split()\n",
    "    ret = ''\n",
    "    for i in range(0, len(a), n):\n",
    "        ret += ' '.join(a[i:i+n]) + '\\n'\n",
    "\n",
    "    return ret\n",
    "\n",
    "\n",
    "for index in range(row):\n",
    "    nd_id = dic_node.iloc[index]['id']\n",
    "    nd_label = dic_node.iloc[index]['label']\n",
    "    nd_type = dic_node.iloc[index]['type']\n",
    "    nd_content = dic_node.iloc[index]['content']\n",
    "    nd_speaker = dic_node.iloc[index]['speaker']\n",
    "    \n",
    "    if nd_type == 'Answer':\n",
    "        nd_color = 'blue'\n",
    "        nd_size = 6\n",
    "    elif nd_type == 'Question':\n",
    "        nd_color = 'dodgerblue'\n",
    "        nd_size = 8\n",
    "    else:\n",
    "        nd_color = 'tomato'\n",
    "        nd_size = 10\n",
    "    \n",
    "    if nd_type == 'Question':        \n",
    "        nd_label1 = wrap_by_word(nd_label,3)\n",
    "    else:\n",
    "        nd_label1 = nd_label    \n",
    "        \n",
    "    ht_nodes.append({'id':nd_id, 'label': nd_label1, 'type':nd_type,\n",
    "                     'color': nd_color, 'size':nd_size, 'font':{'vadjust':'15'},\n",
    "                     'speaker':nd_speaker, 'content':nd_content})\n",
    "\n",
    "# add link into the graph \n",
    "(row, col) = dic_link.shape\n",
    "\n",
    "for index in range(row):\n",
    "    lk_id = dic_link.iloc[index]['id']\n",
    "    lk_from = dic_link.iloc[index]['start']\n",
    "    lk_to = dic_link.iloc[index]['end']\n",
    "    lk_label = dic_link.iloc[index]['label']\n",
    "    \n",
    "    ht_edges.append({'from':lk_from, 'to': lk_to, 'label': lk_label, 'color':{'inherit':'to'},\n",
    "                     'font':{'align':'middle'},\n",
    "                     'arrows':'to'})\n",
    "\n",
    "# export the json file for the html file \n",
    "data = []\n",
    "data = {\"nodes\":ht_nodes,\"edges\":ht_edges}\n",
    "\n",
    "# save the json import version \n",
    "with open('jscode/poster/json/fullQs_qnet1.json', 'w') as outfile:  \n",
    "    json.dump(data, outfile)\n",
    "\n",
    "# save the complete html version\n",
    "with open('jscode/poster/json/nodeQs_qnet3.txt', 'w') as outfile:  \n",
    "    json.dump(ht_nodes, outfile)\n",
    "with open('jscode/poster/json/edgeQs_qnet3.txt', 'w') as outfile:  \n",
    "    json.dump(ht_edges, outfile)"
   ]
  },
  {
   "cell_type": "code",
   "execution_count": 4,
   "metadata": {},
   "outputs": [
    {
     "data": {
      "text/plain": [
       "[  content      id                                              label  level  \\\n",
       " 0           q2785              What is a phenomenon worth exploring?      0   \n",
       " 1          q41917                            What is the hypothesis?      1   \n",
       " 2          q33197  What are the previous studies supporting this ...      2   \n",
       " 3          q35603                                  What is the task?      2   \n",
       " 4          q51348                           What are the conditions?      2   \n",
       " 5          q81408                                What is the result?      2   \n",
       " 6          q39042                                   How to evaluate?      3   \n",
       " 7          q17444             What are the alternative explanations?      3   \n",
       " \n",
       "    speaker           type  \n",
       " 0  Ep81178  Root question  \n",
       " 1  Ep81178       Question  \n",
       " 2  Ep81178       Question  \n",
       " 3  Ep81178       Question  \n",
       " 4  Ep81178       Question  \n",
       " 5  Ep81178       Question  \n",
       " 6  Ep81178       Question  \n",
       " 7  Ep81178       Question  ,       end      id           label   start\n",
       " 0  q41917  l83644                   q2785\n",
       " 1  q33197  l45364                  q41917\n",
       " 2  q35603  l46834  operationalize  q41917\n",
       " 3  q51348  l93867  operationalize  q41917\n",
       " 4  q81408  l99115                  q41917\n",
       " 5  q39042  l84150                  q81408\n",
       " 6  q17444  l21886                  q81408, [['q35603', 'q51348']]]"
      ]
     },
     "execution_count": 4,
     "metadata": {},
     "output_type": "execute_result"
    }
   ],
   "source": [
    "mydict"
   ]
  },
  {
   "cell_type": "code",
   "execution_count": 24,
   "metadata": {},
   "outputs": [
    {
     "data": {
      "text/plain": [
       "'What are the\\nlimitations from previous\\nsolutions?\\n'"
      ]
     },
     "execution_count": 24,
     "metadata": {},
     "output_type": "execute_result"
    }
   ],
   "source": [
    "nd_label = 'What are the limitations from previous solutions?'\n",
    "\n",
    "nd_label2 = wrap_by_word(nd_label,3)\n",
    "\n",
    "nd_label2"
   ]
  },
  {
   "cell_type": "code",
   "execution_count": null,
   "metadata": {},
   "outputs": [],
   "source": []
  }
 ],
 "metadata": {
  "kernelspec": {
   "display_name": "Python 3",
   "language": "python",
   "name": "python3"
  },
  "language_info": {
   "codemirror_mode": {
    "name": "ipython",
    "version": 3
   },
   "file_extension": ".py",
   "mimetype": "text/x-python",
   "name": "python",
   "nbconvert_exporter": "python",
   "pygments_lexer": "ipython3",
   "version": "3.7.3"
  }
 },
 "nbformat": 4,
 "nbformat_minor": 2
}
